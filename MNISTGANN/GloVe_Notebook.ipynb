{
 "cells": [
  {
   "cell_type": "code",
   "execution_count": 4,
   "metadata": {
    "collapsed": false
   },
   "outputs": [],
   "source": [
    "import pandas as pd\n",
    "import numpy as np\n",
    "\n",
    "'''\n",
    "Create a hashmap of keyword->vector\n",
    "\n",
    "'''\n",
    "\n",
    "#set of words we might need\n",
    "words = ('zero','one','two','three','four','five','six','seven','eight','nine','number','none','nil','oblivion','single','sole','solitary','couple','double','pair','triplets','trilogy','trio')\n",
    "\n",
    "#read lines of GloVe 100 dimension file\n",
    "#if line[0] is in set then add it to the hashmap\n",
    "hashmap = {}\n",
    "with open(\"glove/glove.6B.100d.txt\", \"r\") as ins:\n",
    "    array = []\n",
    "    for line in ins:\n",
    "        array = line.split()\n",
    "        if array[0] in words:\n",
    "            #rest of array is the word vector\n",
    "            word = array[0]\n",
    "            vector = np.array(array[1:]).astype(float)\n",
    "            hashmap[word] = vector"
   ]
  },
  {
   "cell_type": "code",
   "execution_count": 15,
   "metadata": {
    "collapsed": false
   },
   "outputs": [
    {
     "name": "stdout",
     "output_type": "stream",
     "text": [
      "input words:  ['one', 'trilogy', 'couple', 'double', 'number', 'seven', 'pair', 'oblivion', 'solitary', 'sole', 'five', 'zero', 'single', 'nine', 'triplets', 'three', 'six', 'four', 'two', 'nil', 'trio', 'eight', 'none']\n"
     ]
    }
   ],
   "source": [
    "#ys will be input for neural network\n",
    "ys = np.empty((len(hashmap.keys()),100))\n",
    "idx = 0\n",
    "input_words = list()\n",
    "for key in hashmap:\n",
    "    #could save each image from neural network here (one.png, sole.png, oblivion.png, ...)\n",
    "    input_words.append(key)\n",
    "    ys[idx] = hashmap[key]\n",
    "    idx+=1\n",
    "print(\"input words: \",input_words)\n",
    "\n",
    "#now load neural netwok"
   ]
  },
  {
   "cell_type": "code",
   "execution_count": 11,
   "metadata": {
    "collapsed": false
   },
   "outputs": [
    {
     "data": {
      "text/plain": [
       "array([ 0.12375 ,  0.046671,  0.16457 ,  0.58245 , -0.35918 , -0.24306 ,\n",
       "       -0.13111 ,  0.021501, -0.78991 ,  0.44209 , -0.097615,  0.28294 ,\n",
       "       -0.34947 ,  0.009135,  0.73952 , -0.32064 , -0.11049 ,  0.82548 ,\n",
       "        0.18176 , -0.11024 ,  0.87851 ,  0.24426 , -0.73311 , -0.16286 ,\n",
       "        0.2503  ,  0.30081 ,  0.017757,  0.048752, -0.23527 , -0.57728 ,\n",
       "        0.45764 ,  0.22413 , -0.38344 ,  1.0421  , -0.022578,  0.31394 ,\n",
       "        0.20492 , -0.53353 , -0.068476,  0.097599, -0.12358 , -0.20381 ,\n",
       "        0.19773 ,  0.38764 ,  0.16883 , -0.12682 , -0.099001,  0.040504,\n",
       "       -0.91059 , -0.57182 ,  0.35402 , -0.73477 , -0.49655 ,  0.92878 ,\n",
       "       -0.39371 , -1.6626  ,  0.031367, -0.027817,  1.5005  ,  0.40554 ,\n",
       "       -0.079345, -0.013553, -1.1732  , -0.40935 ,  0.68948 ,  0.6422  ,\n",
       "        0.25499 , -0.54176 ,  0.53864 , -0.088527, -0.050134, -0.33626 ,\n",
       "        0.25259 ,  0.70503 ,  0.57892 , -0.22584 ,  0.24471 , -0.69422 ,\n",
       "       -0.22674 , -0.10858 , -0.056943,  0.045362, -1.1977  , -0.41879 ,\n",
       "       -0.62756 ,  0.5263  ,  0.081186, -0.47522 ,  0.19947 ,  0.061472,\n",
       "       -0.3427  ,  0.72452 ,  0.040165, -0.12532 , -0.23058 , -0.72661 ,\n",
       "        0.27016 , -0.11509 ,  0.22085 , -0.44796 ])"
      ]
     },
     "execution_count": 11,
     "metadata": {},
     "output_type": "execute_result"
    }
   ],
   "source": [
    "#checking to make sure I did the original word vectors right\n",
    "import numpy as np\n",
    "embeddings = np.genfromtxt('word2vec.csv')\n",
    "#looks like I did!\n",
    "embeddings[0] #== hashmap[\"two\"] "
   ]
  }
 ],
 "metadata": {
  "anaconda-cloud": {},
  "kernelspec": {
   "display_name": "Python [Root]",
   "language": "python",
   "name": "Python [Root]"
  },
  "language_info": {
   "codemirror_mode": {
    "name": "ipython",
    "version": 3
   },
   "file_extension": ".py",
   "mimetype": "text/x-python",
   "name": "python",
   "nbconvert_exporter": "python",
   "pygments_lexer": "ipython3",
   "version": "3.5.2"
  }
 },
 "nbformat": 4,
 "nbformat_minor": 0
}
